{
  "cells": [
    {
      "cell_type": "markdown",
      "metadata": {},
      "source": [
        "This notebook makes an evaluation of VGG16 Neural Networks for automatic classification of common maternal fetal ultrasound planes\n",
        "\n",
        "Work done by : Habbouza Hamdi, Mouzaki Youness, Zarrouq Soukaina"
      ]
    },
    {
      "cell_type": "code",
      "execution_count": 1,
      "metadata": {
        "colab": {
          "base_uri": "https://localhost:8080/"
        },
        "id": "HUadOr75YANG",
        "outputId": "02a26dc8-2e5d-4565-ce9b-3dfbc6547a9a"
      },
      "outputs": [
        {
          "name": "stdout",
          "output_type": "stream",
          "text": [
            "Mounted at /content/drive\n"
          ]
        }
      ],
      "source": [
        "from google.colab import drive\n",
        "drive.mount('/content/drive')"
      ]
    },
    {
      "cell_type": "code",
      "execution_count": null,
      "metadata": {
        "id": "iEDQwVa9bOf2"
      },
      "outputs": [],
      "source": [
        "#download data to google drive\n",
        "!wget https://zenodo.org/record/3904280/files/FETAL_PLANES_ZENODO.zip?download=1 /content/drive/MyDrive/DeepL\n",
        "!mkdir data\n",
        "!unzip FETAL_PLANES_ZENODO.zip?download=1 -d /content/drive/MyDrive/DeepL/data"
      ]
    },
    {
      "cell_type": "code",
      "execution_count": 12,
      "metadata": {
        "id": "c0UjwNXHYKy9"
      },
      "outputs": [],
      "source": [
        "#imports\n",
        "import tensorflow as tf\n",
        "import matplotlib.pyplot as plt\n",
        "import numpy as np\n",
        "import pandas as pd\n",
        "import random\n",
        "import os\n",
        "from tensorflow.keras.layers import Dense,GlobalAveragePooling2D\n",
        "from tensorflow.keras.models import Sequential\n",
        "from tensorflow.keras.optimizers import Adam\n",
        "from tensorflow.keras.preprocessing.image import ImageDataGenerator"
      ]
    },
    {
      "cell_type": "code",
      "execution_count": 23,
      "metadata": {
        "id": "fnuzl5m6YN_E"
      },
      "outputs": [],
      "source": [
        "#read excel file that contains labels\n",
        "df = pd.read_excel(\"/content/drive/MyDrive/DL/data/FETAL_PLANES_DB_data.xlsx\")"
      ]
    },
    {
      "cell_type": "code",
      "execution_count": 24,
      "metadata": {
        "id": "o1szvCakYhTk"
      },
      "outputs": [],
      "source": [
        "#define columns names\n",
        "df = df.rename(columns={'Image_name': 'Image', 'Plane': 'label'})\n",
        "df['Image'] = df['Image'].apply(lambda x: x.replace(x, '/content/drive/MyDrive/DL/data/Images/'+x+'.png'))"
      ]
    },
    {
      "cell_type": "code",
      "execution_count": 25,
      "metadata": {
        "id": "q9xU5f_LYviu"
      },
      "outputs": [],
      "source": [
        "#split data to train and test data\n",
        "df_train = df[df['Train ']==1][['Image', 'label']]\n",
        "df_test = df[df['Train ']==0][['Image', 'label']]"
      ]
    },
    {
      "cell_type": "code",
      "execution_count": 26,
      "metadata": {
        "colab": {
          "base_uri": "https://localhost:8080/"
        },
        "id": "RtQYlPttY7sS",
        "outputId": "41845b70-a746-4cd6-abf8-e5134159a789"
      },
      "outputs": [
        {
          "data": {
            "text/plain": [
              "(7129, 2)"
            ]
          },
          "execution_count": 26,
          "metadata": {},
          "output_type": "execute_result"
        }
      ],
      "source": [
        "#show train data shape\n",
        "df_train.shape"
      ]
    },
    {
      "cell_type": "code",
      "execution_count": 28,
      "metadata": {
        "colab": {
          "base_uri": "https://localhost:8080/"
        },
        "id": "429WDk3WY8QR",
        "outputId": "924ff954-6b6f-4a48-88a5-acf052120b29"
      },
      "outputs": [
        {
          "name": "stdout",
          "output_type": "stream",
          "text": [
            "training data is 57.49% of the dataset.\n"
          ]
        }
      ],
      "source": [
        "print('training data is {0:.2f}% of the dataset.'.format(7129/(7129+5271)*100))"
      ]
    },
    {
      "cell_type": "code",
      "execution_count": 29,
      "metadata": {
        "colab": {
          "base_uri": "https://localhost:8080/"
        },
        "id": "mXXM9UoCY_IT",
        "outputId": "86c9f452-4836-4a9a-c32e-d40d2aca1347"
      },
      "outputs": [
        {
          "name": "stdout",
          "output_type": "stream",
          "text": [
            "Found 7129 validated image filenames belonging to 6 classes.\n"
          ]
        }
      ],
      "source": [
        "#define training data generator\n",
        "batch_size = 32\n",
        "datagen = ImageDataGenerator(rescale=1./255,)\n",
        "\n",
        "train_generator = datagen.flow_from_dataframe(\n",
        "    dataframe=df_train,\n",
        "    x_col=\"Image\",\n",
        "    y_col=\"label\",\n",
        "    target_size=(224, 224),\n",
        "    batch_size=batch_size,\n",
        "    class_mode=\"categorical\",\n",
        "    subset='training',\n",
        "    shuffle=True,\n",
        "    seed=42\n",
        ")"
      ]
    },
    {
      "cell_type": "code",
      "execution_count": 30,
      "metadata": {
        "colab": {
          "base_uri": "https://localhost:8080/"
        },
        "id": "7yd28QDIo-sC",
        "outputId": "5bae8d1f-cf9e-40b5-ff83-064520431d1c"
      },
      "outputs": [
        {
          "name": "stdout",
          "output_type": "stream",
          "text": [
            "Found 5271 validated image filenames belonging to 6 classes.\n"
          ]
        }
      ],
      "source": [
        "#define test data generator\n",
        "test_generator = datagen.flow_from_dataframe(\n",
        "    dataframe=df_test,\n",
        "    x_col=\"Image\",\n",
        "    y_col=\"label\",\n",
        "    target_size=(224, 224),\n",
        "    batch_size=batch_size,\n",
        "    class_mode=\"categorical\",\n",
        "    shuffle=True,\n",
        ")"
      ]
    },
    {
      "cell_type": "code",
      "execution_count": 31,
      "metadata": {
        "colab": {
          "base_uri": "https://localhost:8080/"
        },
        "id": "nZ7RYP3XZDeC",
        "outputId": "1d8aedad-8600-4fab-fad9-1cc6a7c932d5"
      },
      "outputs": [
        {
          "name": "stdout",
          "output_type": "stream",
          "text": [
            "Downloading data from https://storage.googleapis.com/tensorflow/keras-applications/vgg16/vgg16_weights_tf_dim_ordering_tf_kernels_notop.h5\n",
            "58892288/58889256 [==============================] - 1s 0us/step\n",
            "58900480/58889256 [==============================] - 1s 0us/step\n"
          ]
        }
      ],
      "source": [
        "#define VGG model\n",
        "model = Sequential()\n",
        "vgg= tf.keras.applications.VGG16(\n",
        "    include_top=False,\n",
        "    weights=\"imagenet\",\n",
        "    input_shape=(224,224,3),\n",
        "    pooling=None,\n",
        "    classes=6,\n",
        ")"
      ]
    },
    {
      "cell_type": "code",
      "execution_count": 32,
      "metadata": {
        "id": "ZnZQUi3qqF5d"
      },
      "outputs": [],
      "source": [
        "#woring with initial weights\n",
        "for layer in vgg.layers:\n",
        "        layer.trainable=False\n",
        "model.add(vgg)\n",
        "model.add(GlobalAveragePooling2D())"
      ]
    },
    {
      "cell_type": "code",
      "execution_count": 33,
      "metadata": {
        "id": "CfsNUx2kqIAD"
      },
      "outputs": [],
      "source": [
        "#adding top layer\n",
        "model.add(Dense(256, activation='relu'))\n",
        "model.add(Dense(6, activation='softmax'))"
      ]
    },
    {
      "cell_type": "code",
      "execution_count": 34,
      "metadata": {
        "colab": {
          "base_uri": "https://localhost:8080/"
        },
        "id": "mVn0qX5UqJc3",
        "outputId": "7af39ea6-03df-4336-f3ab-e3e912dfb86f"
      },
      "outputs": [
        {
          "name": "stdout",
          "output_type": "stream",
          "text": [
            "Model: \"sequential_1\"\n",
            "_________________________________________________________________\n",
            " Layer (type)                Output Shape              Param #   \n",
            "=================================================================\n",
            " vgg16 (Functional)          (None, 7, 7, 512)         14714688  \n",
            "                                                                 \n",
            " global_average_pooling2d_1   (None, 512)              0         \n",
            " (GlobalAveragePooling2D)                                        \n",
            "                                                                 \n",
            " dense_2 (Dense)             (None, 256)               131328    \n",
            "                                                                 \n",
            " dense_3 (Dense)             (None, 6)                 1542      \n",
            "                                                                 \n",
            "=================================================================\n",
            "Total params: 14,847,558\n",
            "Trainable params: 132,870\n",
            "Non-trainable params: 14,714,688\n",
            "_________________________________________________________________\n"
          ]
        }
      ],
      "source": [
        "model.summary()"
      ]
    },
    {
      "cell_type": "code",
      "execution_count": 35,
      "metadata": {
        "colab": {
          "base_uri": "https://localhost:8080/"
        },
        "id": "uVKLjVcfZRMv",
        "outputId": "3a6325bf-1820-4096-bc3a-57db74e76568"
      },
      "outputs": [
        {
          "name": "stdout",
          "output_type": "stream",
          "text": [
            "Epoch 1/10\n",
            "223/223 [==============================] - 170s 741ms/step - loss: 0.8348 - accuracy: 0.7042 - val_loss: 0.6736 - val_accuracy: 0.7564\n",
            "Epoch 2/10\n",
            "223/223 [==============================] - 157s 703ms/step - loss: 0.4733 - accuracy: 0.8320 - val_loss: 0.4991 - val_accuracy: 0.8353\n",
            "Epoch 3/10\n",
            "223/223 [==============================] - 157s 702ms/step - loss: 0.3977 - accuracy: 0.8593 - val_loss: 0.5171 - val_accuracy: 0.8063\n",
            "Epoch 4/10\n",
            "223/223 [==============================] - 156s 698ms/step - loss: 0.3499 - accuracy: 0.8750 - val_loss: 0.4146 - val_accuracy: 0.8607\n",
            "Epoch 5/10\n",
            "223/223 [==============================] - 156s 702ms/step - loss: 0.3202 - accuracy: 0.8843 - val_loss: 0.4150 - val_accuracy: 0.8505\n",
            "Epoch 6/10\n",
            "223/223 [==============================] - 156s 702ms/step - loss: 0.3071 - accuracy: 0.8897 - val_loss: 0.3764 - val_accuracy: 0.8670\n",
            "Epoch 7/10\n",
            "223/223 [==============================] - 156s 701ms/step - loss: 0.2922 - accuracy: 0.8954 - val_loss: 0.4247 - val_accuracy: 0.8444\n",
            "Epoch 8/10\n",
            "223/223 [==============================] - 156s 698ms/step - loss: 0.2693 - accuracy: 0.9034 - val_loss: 0.5564 - val_accuracy: 0.7968\n",
            "Epoch 9/10\n",
            "223/223 [==============================] - 156s 700ms/step - loss: 0.2609 - accuracy: 0.9080 - val_loss: 0.3568 - val_accuracy: 0.8718\n",
            "Epoch 10/10\n",
            "223/223 [==============================] - 156s 699ms/step - loss: 0.2580 - accuracy: 0.9102 - val_loss: 0.3657 - val_accuracy: 0.8719\n"
          ]
        }
      ],
      "source": [
        "#compile model and save history\n",
        "model.compile(optimizer=Adam(learning_rate=0.001),\n",
        "              loss='categorical_crossentropy',\n",
        "              metrics=['accuracy'])\n",
        "\n",
        "history = model.fit(train_generator, \n",
        "                    validation_data=test_generator,\n",
        "                    epochs=10)"
      ]
    },
    {
      "cell_type": "code",
      "execution_count": 36,
      "metadata": {
        "colab": {
          "base_uri": "https://localhost:8080/",
          "height": 577
        },
        "id": "QTxp0RRyZTBr",
        "outputId": "89b99d63-a2c8-45a0-8654-3be8cae3cf6d"
      },
      "outputs": [
        {
          "data": {
            "image/png": "[encoded data removed]",
            "text/plain": [
              "<Figure size 432x288 with 1 Axes>"
            ]
          },
          "metadata": {
            "needs_background": "light"
          },
          "output_type": "display_data"
        },
        {
          "data": {
            "text/plain": [
              "<matplotlib.legend.Legend at 0x7fbb9b65c2d0>"
            ]
          },
          "execution_count": 36,
          "metadata": {},
          "output_type": "execute_result"
        },
        {
          "data": {
            "image/png": "[encoded data removed]",
            "text/plain": [
              "<Figure size 432x288 with 1 Axes>"
            ]
          },
          "metadata": {
            "needs_background": "light"
          },
          "output_type": "display_data"
        }
      ],
      "source": [
        "#plot history\n",
        "fig1 = plt.gcf()\n",
        "plt.plot(history.history['accuracy'])\n",
        "plt.plot(history.history['val_accuracy'])\n",
        "plt.axis(ymin=0.4,ymax=1)\n",
        "\n",
        "plt.grid()\n",
        "plt.title('Model Accuracy')\n",
        "plt.ylabel('Accuracy')\n",
        "plt.xlabel('Epochs')\n",
        "plt.legend(['train', 'validation'])\n",
        "plt.show()\n",
        "\n",
        "plt.plot(history.history['loss'], label = 'loss')\n",
        "plt.plot(history.history['val_loss'], label = 'val_loss')\n",
        "plt.grid()\n",
        "plt.title('Model Loss')\n",
        "plt.legend()"
      ]
    },
    {
      "cell_type": "code",
      "execution_count": null,
      "metadata": {
        "id": "x4IutDDHnsqe"
      },
      "outputs": [],
      "source": [
        "#Conclusion :\n",
        "Using the VGG16 model and transfer learning and after training the model \n",
        "for 10 epoches we got an accuracy of 0.9102 on the training set,\n",
        "a validation loss of 0.3657 and a validation accuracy of 0.8719 which is better that our other experimentation with DenseNet169 architectures"
      ]
    }
  ],
  "metadata": {
    "accelerator": "GPU",
    "colab": {
      "collapsed_sections": [],
      "name": "Untitled5.ipynb",
      "provenance": []
    },
    "kernelspec": {
      "display_name": "Python 3",
      "name": "python3"
    },
    "language_info": {
      "name": "python"
    }
  },
  "nbformat": 4,
  "nbformat_minor": 0
}
