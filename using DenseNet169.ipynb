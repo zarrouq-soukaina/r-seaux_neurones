{
  "cells": [
    {
      "cell_type": "markdown",
      "metadata": {},
      "source": [
        "This notebook makes an evaluation of DenseNet169 Neural Networks for automatic classification of common maternal fetal ultrasound planes\n",
        "\n",
        "Work done by :  Zarrouq Soukaina"
      ]
    },
    {
      "cell_type": "code",
      "execution_count": 1,
      "metadata": {
        "colab": {
          "base_uri": "https://localhost:8080/"
        },
        "id": "HUadOr75YANG",
        "outputId": "8a7deedd-236e-42db-f628-e1f0b9216651"
      },
      "outputs": [
        {
          "name": "stdout",
          "output_type": "stream",
          "text": [
            "Mounted at /content/drive\n"
          ]
        }
      ],
      "source": [
        "from google.colab import drive\n",
        "drive.mount('/content/drive')"
      ]
    },
    {
      "cell_type": "code",
      "execution_count": 2,
      "metadata": {
        "id": "c0UjwNXHYKy9"
      },
      "outputs": [],
      "source": [
        "#imports\n",
        "import tensorflow as tf\n",
        "import matplotlib.pyplot as plt\n",
        "import numpy as np\n",
        "import pandas as pd\n",
        "import random\n",
        "import os\n",
        "from tensorflow.keras.layers import Dense,GlobalAveragePooling2D\n",
        "from tensorflow.keras.models import Sequential\n",
        "from tensorflow.keras.optimizers import Adam\n",
        "from tensorflow.keras.preprocessing.image import ImageDataGenerator"
      ]
    },
    {
      "cell_type": "code",
      "execution_count": null,
      "metadata": {
        "colab": {
          "base_uri": "https://localhost:8080/"
        },
        "id": "fnuzl5m6YN_E",
        "outputId": "63f9ca6a-8700-4d04-9007-f5bf4805a293"
      },
      "outputs": [
        {
          "name": "stdout",
          "output_type": "stream",
          "text": [
            "--2022-02-17 09:22:40--  https://zenodo.org/record/3904280/files/FETAL_PLANES_ZENODO.zip?download=1\n",
            "Resolving zenodo.org (zenodo.org)... 137.138.76.77\n",
            "Connecting to zenodo.org (zenodo.org)|137.138.76.77|:443... connected.\n",
            "HTTP request sent, awaiting response... 200 OK\n",
            "Length: 2088522169 (1.9G) [application/octet-stream]\n",
            "Saving to: ‘FETAL_PLANES_ZENODO.zip?download=1.2’\n",
            "\n",
            "FETAL_PLANES_ZENODO 100%[===================>]   1.94G  4.75MB/s    in 7m 32s  \n",
            "\n",
            "2022-02-17 09:30:13 (4.40 MB/s) - ‘FETAL_PLANES_ZENODO.zip?download=1.2’ saved [2088522169/2088522169]\n",
            "\n",
            "/content/drive/MyDrive/DL: Scheme missing.\n",
            "FINISHED --2022-02-17 09:30:13--\n",
            "Total wall clock time: 7m 34s\n",
            "Downloaded: 1 files, 1.9G in 7m 32s (4.40 MB/s)\n",
            "mkdir: cannot create directory ‘data’: File exists\n",
            "Archive:  FETAL_PLANES_ZENODO.zip?download=1\n",
            "  End-of-central-directory signature not found.  Either this file is not\n",
            "  a zipfile, or it constitutes one disk of a multi-part archive.  In the\n",
            "  latter case the central directory and zipfile comment will be found on\n",
            "  the last disk(s) of this archive.\n",
            "unzip:  cannot find zipfile directory in one of FETAL_PLANES_ZENODO.zip?download=1 or\n",
            "        FETAL_PLANES_ZENODO.zip?download=1.zip, and cannot find FETAL_PLANES_ZENODO.zip?download=1.ZIP, period.\n",
            "\n",
            "No zipfiles found.\n"
          ]
        }
      ],
      "source": [
        "#download data to google drive\n",
        "!wget https://zenodo.org/record/3904280/files/FETAL_PLANES_ZENODO.zip?download=1 /content/drive/MyDrive/DL\n",
        "!mkdir data\n",
        "!unzip FETAL_PLANES_ZENODO.zip?download=1 -d /content/drive/MyDrive/DL/data"
      ]
    },
    {
      "cell_type": "code",
      "execution_count": 3,
      "metadata": {
        "id": "kW1l0rFP-H2F"
      },
      "outputs": [],
      "source": [
        "#read excel file that contains labels\n",
        "df = pd.read_excel(\"/content/drive/MyDrive/DL/data/FETAL_PLANES_DB_data.xlsx\")"
      ]
    },
    {
      "cell_type": "code",
      "execution_count": 4,
      "metadata": {
        "id": "o1szvCakYhTk"
      },
      "outputs": [],
      "source": [
        "#define columns names\n",
        "df = df.rename(columns={'Image_name': 'Image', 'Plane': 'label'})\n",
        "df['Image'] = df['Image'].apply(lambda x: x.replace(x, '/content/drive/MyDrive/DL/data/Images/'+x+'.png'))"
      ]
    },
    {
      "cell_type": "code",
      "execution_count": 5,
      "metadata": {
        "colab": {
          "base_uri": "https://localhost:8080/",
          "height": 206
        },
        "id": "H7dDElkPYsLh",
        "outputId": "c4e2009c-8185-471f-890d-3d6252eda34c"
      },
      "outputs": [
        {
          "data": {
            "text/html": [
              "\n",
              "  <div id=\"df-1001d1b0-20f0-4873-a3f4-85769479a4d2\">\n",
              "    <div class=\"colab-df-container\">\n",
              "      <div>\n",
              "<style scoped>\n",
              "    .dataframe tbody tr th:only-of-type {\n",
              "        vertical-align: middle;\n",
              "    }\n",
              "\n",
              "    .dataframe tbody tr th {\n",
              "        vertical-align: top;\n",
              "    }\n",
              "\n",
              "    .dataframe thead th {\n",
              "        text-align: right;\n",
              "    }\n",
              "</style>\n",
              "<table border=\"1\" class=\"dataframe\">\n",
              "  <thead>\n",
              "    <tr style=\"text-align: right;\">\n",
              "      <th></th>\n",
              "      <th>Image</th>\n",
              "      <th>Patient_num</th>\n",
              "      <th>label</th>\n",
              "      <th>Brain_plane</th>\n",
              "      <th>Operator</th>\n",
              "      <th>US_Machine</th>\n",
              "      <th>Train</th>\n",
              "    </tr>\n",
              "  </thead>\n",
              "  <tbody>\n",
              "    <tr>\n",
              "      <th>0</th>\n",
              "      <td>/content/drive/MyDrive/DL/data/Images/Patient0...</td>\n",
              "      <td>1</td>\n",
              "      <td>Other</td>\n",
              "      <td>Not A Brain</td>\n",
              "      <td>Other</td>\n",
              "      <td>Aloka</td>\n",
              "      <td>1</td>\n",
              "    </tr>\n",
              "    <tr>\n",
              "      <th>1</th>\n",
              "      <td>/content/drive/MyDrive/DL/data/Images/Patient0...</td>\n",
              "      <td>1</td>\n",
              "      <td>Other</td>\n",
              "      <td>Not A Brain</td>\n",
              "      <td>Other</td>\n",
              "      <td>Aloka</td>\n",
              "      <td>1</td>\n",
              "    </tr>\n",
              "    <tr>\n",
              "      <th>2</th>\n",
              "      <td>/content/drive/MyDrive/DL/data/Images/Patient0...</td>\n",
              "      <td>1</td>\n",
              "      <td>Other</td>\n",
              "      <td>Not A Brain</td>\n",
              "      <td>Other</td>\n",
              "      <td>Aloka</td>\n",
              "      <td>1</td>\n",
              "    </tr>\n",
              "    <tr>\n",
              "      <th>3</th>\n",
              "      <td>/content/drive/MyDrive/DL/data/Images/Patient0...</td>\n",
              "      <td>1</td>\n",
              "      <td>Other</td>\n",
              "      <td>Not A Brain</td>\n",
              "      <td>Other</td>\n",
              "      <td>Aloka</td>\n",
              "      <td>1</td>\n",
              "    </tr>\n",
              "    <tr>\n",
              "      <th>4</th>\n",
              "      <td>/content/drive/MyDrive/DL/data/Images/Patient0...</td>\n",
              "      <td>1</td>\n",
              "      <td>Other</td>\n",
              "      <td>Not A Brain</td>\n",
              "      <td>Other</td>\n",
              "      <td>Aloka</td>\n",
              "      <td>1</td>\n",
              "    </tr>\n",
              "  </tbody>\n",
              "</table>\n",
              "</div>\n",
              "      <button class=\"colab-df-convert\" onclick=\"convertToInteractive('df-1001d1b0-20f0-4873-a3f4-85769479a4d2')\"\n",
              "              title=\"Convert this dataframe to an interactive table.\"\n",
              "              style=\"display:none;\">\n",
              "        \n",
              "  <svg xmlns=\"http://www.w3.org/2000/svg\" height=\"24px\"viewBox=\"0 0 24 24\"\n",
              "       width=\"24px\">\n",
              "    <path d=\"M0 0h24v24H0V0z\" fill=\"none\"/>\n",
              "    <path d=\"M18.56 5.44l.94 2.06.94-2.06 2.06-.94-2.06-.94-.94-2.06-.94 2.06-2.06.94zm-11 1L8.5 8.5l.94-2.06 2.06-.94-2.06-.94L8.5 2.5l-.94 2.06-2.06.94zm10 10l.94 2.06.94-2.06 2.06-.94-2.06-.94-.94-2.06-.94 2.06-2.06.94z\"/><path d=\"M17.41 7.96l-1.37-1.37c-.4-.4-.92-.59-1.43-.59-.52 0-1.04.2-1.43.59L10.3 9.45l-7.72 7.72c-.78.78-.78 2.05 0 2.83L4 21.41c.39.39.9.59 1.41.59.51 0 1.02-.2 1.41-.59l7.78-7.78 2.81-2.81c.8-.78.8-2.07 0-2.86zM5.41 20L4 18.59l7.72-7.72 1.47 1.35L5.41 20z\"/>\n",
              "  </svg>\n",
              "      </button>\n",
              "      \n",
              "  <style>\n",
              "    .colab-df-container {\n",
              "      display:flex;\n",
              "      flex-wrap:wrap;\n",
              "      gap: 12px;\n",
              "    }\n",
              "\n",
              "    .colab-df-convert {\n",
              "      background-color: #E8F0FE;\n",
              "      border: none;\n",
              "      border-radius: 50%;\n",
              "      cursor: pointer;\n",
              "      display: none;\n",
              "      fill: #1967D2;\n",
              "      height: 32px;\n",
              "      padding: 0 0 0 0;\n",
              "      width: 32px;\n",
              "    }\n",
              "\n",
              "    .colab-df-convert:hover {\n",
              "      background-color: #E2EBFA;\n",
              "      box-shadow: 0px 1px 2px rgba(60, 64, 67, 0.3), 0px 1px 3px 1px rgba(60, 64, 67, 0.15);\n",
              "      fill: #174EA6;\n",
              "    }\n",
              "\n",
              "    [theme=dark] .colab-df-convert {\n",
              "      background-color: #3B4455;\n",
              "      fill: #D2E3FC;\n",
              "    }\n",
              "\n",
              "    [theme=dark] .colab-df-convert:hover {\n",
              "      background-color: #434B5C;\n",
              "      box-shadow: 0px 1px 3px 1px rgba(0, 0, 0, 0.15);\n",
              "      filter: drop-shadow(0px 1px 2px rgba(0, 0, 0, 0.3));\n",
              "      fill: #FFFFFF;\n",
              "    }\n",
              "  </style>\n",
              "\n",
              "      <script>\n",
              "        const buttonEl =\n",
              "          document.querySelector('#df-1001d1b0-20f0-4873-a3f4-85769479a4d2 button.colab-df-convert');\n",
              "        buttonEl.style.display =\n",
              "          google.colab.kernel.accessAllowed ? 'block' : 'none';\n",
              "\n",
              "        async function convertToInteractive(key) {\n",
              "          const element = document.querySelector('#df-1001d1b0-20f0-4873-a3f4-85769479a4d2');\n",
              "          const dataTable =\n",
              "            await google.colab.kernel.invokeFunction('convertToInteractive',\n",
              "                                                     [key], {});\n",
              "          if (!dataTable) return;\n",
              "\n",
              "          const docLinkHtml = 'Like what you see? Visit the ' +\n",
              "            '<a target=\"_blank\" href=https://colab.research.google.com/notebooks/data_table.ipynb>data table notebook</a>'\n",
              "            + ' to learn more about interactive tables.';\n",
              "          element.innerHTML = '';\n",
              "          dataTable['output_type'] = 'display_data';\n",
              "          await google.colab.output.renderOutput(dataTable, element);\n",
              "          const docLink = document.createElement('div');\n",
              "          docLink.innerHTML = docLinkHtml;\n",
              "          element.appendChild(docLink);\n",
              "        }\n",
              "      </script>\n",
              "    </div>\n",
              "  </div>\n",
              "  "
            ],
            "text/plain": [
              "                                               Image  ...  Train \n",
              "0  /content/drive/MyDrive/DL/data/Images/Patient0...  ...       1\n",
              "1  /content/drive/MyDrive/DL/data/Images/Patient0...  ...       1\n",
              "2  /content/drive/MyDrive/DL/data/Images/Patient0...  ...       1\n",
              "3  /content/drive/MyDrive/DL/data/Images/Patient0...  ...       1\n",
              "4  /content/drive/MyDrive/DL/data/Images/Patient0...  ...       1\n",
              "\n",
              "[5 rows x 7 columns]"
            ]
          },
          "execution_count": 5,
          "metadata": {},
          "output_type": "execute_result"
        }
      ],
      "source": [
        "#show first 5 rows\n",
        "df.head()"
      ]
    },
    {
      "cell_type": "code",
      "execution_count": 6,
      "metadata": {
        "id": "q9xU5f_LYviu"
      },
      "outputs": [],
      "source": [
        "#split data to train and test data\n",
        "df_train = df[df['Train ']==1][['Image', 'label']]\n",
        "df_test = df[df['Train ']==0][['Image', 'label']]"
      ]
    },
    {
      "cell_type": "code",
      "execution_count": 7,
      "metadata": {
        "colab": {
          "base_uri": "https://localhost:8080/"
        },
        "id": "RtQYlPttY7sS",
        "outputId": "3efc6e8c-90b6-4664-d4da-314a36f980bd"
      },
      "outputs": [
        {
          "data": {
            "text/plain": [
              "(7129, 2)"
            ]
          },
          "execution_count": 7,
          "metadata": {},
          "output_type": "execute_result"
        }
      ],
      "source": [
        "#show train data shape\n",
        "df_train.shape"
      ]
    },
    {
      "cell_type": "code",
      "execution_count": 14,
      "metadata": {
        "colab": {
          "base_uri": "https://localhost:8080/"
        },
        "id": "429WDk3WY8QR",
        "outputId": "cf4f62c3-de70-40fd-b656-832a8ad9ea1f"
      },
      "outputs": [
        {
          "name": "stdout",
          "output_type": "stream",
          "text": [
            "training data is 57.49% of the whole dataset.\n"
          ]
        }
      ],
      "source": [
        "print('training data is {0:.2f}% of the whole dataset.'.format(7129/(7129+5271)*100))"
      ]
    },
    {
      "cell_type": "code",
      "execution_count": 15,
      "metadata": {
        "colab": {
          "base_uri": "https://localhost:8080/"
        },
        "id": "mXXM9UoCY_IT",
        "outputId": "e18f3267-c4f9-4f27-80b7-10d012090355"
      },
      "outputs": [
        {
          "name": "stdout",
          "output_type": "stream",
          "text": [
            "Found 7129 validated image filenames belonging to 6 classes.\n"
          ]
        }
      ],
      "source": [
        "#define training data generator\n",
        "batch_size = 32\n",
        "#scaling images between 0 and 1\n",
        "datagen = ImageDataGenerator(rescale=1./255,)\n",
        "\n",
        "train_generator = datagen.flow_from_dataframe(\n",
        "    dataframe=df_train,\n",
        "    x_col=\"Image\",\n",
        "    y_col=\"label\",\n",
        "    target_size=(224, 224),\n",
        "    batch_size=batch_size,\n",
        "    class_mode=\"categorical\",\n",
        "    subset='training',\n",
        "    shuffle=True,\n",
        "    seed=42\n",
        ")\n"
      ]
    },
    {
      "cell_type": "code",
      "execution_count": 16,
      "metadata": {
        "colab": {
          "base_uri": "https://localhost:8080/"
        },
        "id": "t2vRNp9GEsj7",
        "outputId": "77d99d1f-8d69-4d0b-eb92-d76a6ce6e8ed"
      },
      "outputs": [
        {
          "name": "stdout",
          "output_type": "stream",
          "text": [
            "Found 5271 validated image filenames belonging to 6 classes.\n"
          ]
        }
      ],
      "source": [
        "#define test data generator\n",
        "test_generator = datagen.flow_from_dataframe(\n",
        "    dataframe=df_test,\n",
        "    x_col=\"Image\",\n",
        "    y_col=\"label\",\n",
        "    target_size=(224, 224),\n",
        "    batch_size=batch_size,\n",
        "    class_mode=\"categorical\",\n",
        "    shuffle=True,\n",
        ")"
      ]
    },
    {
      "cell_type": "code",
      "execution_count": 20,
      "metadata": {
        "colab": {
          "base_uri": "https://localhost:8080/"
        },
        "id": "nZ7RYP3XZDeC",
        "outputId": "df08939f-0b14-4025-8d07-86b06c6a4a31"
      },
      "outputs": [
        {
          "name": "stdout",
          "output_type": "stream",
          "text": [
            "Downloading data from https://storage.googleapis.com/tensorflow/keras-applications/densenet/densenet169_weights_tf_dim_ordering_tf_kernels_notop.h5\n",
            "51879936/51877672 [==============================] - 0s 0us/step\n",
            "51888128/51877672 [==============================] - 0s 0us/step\n",
            "Model: \"sequential_2\"\n",
            "_________________________________________________________________\n",
            " Layer (type)                Output Shape              Param #   \n",
            "=================================================================\n",
            " densenet169 (Functional)    (None, 7, 7, 1664)        12642880  \n",
            "                                                                 \n",
            " global_average_pooling2d (G  (None, 1664)             0         \n",
            " lobalAveragePooling2D)                                          \n",
            "                                                                 \n",
            " dense (Dense)               (None, 256)               426240    \n",
            "                                                                 \n",
            " dropout (Dropout)           (None, 256)               0         \n",
            "                                                                 \n",
            " batch_normalization (BatchN  (None, 256)              1024      \n",
            " ormalization)                                                   \n",
            "                                                                 \n",
            " dense_1 (Dense)             (None, 6)                 1542      \n",
            "                                                                 \n",
            "=================================================================\n",
            "Total params: 13,071,686\n",
            "Trainable params: 428,294\n",
            "Non-trainable params: 12,643,392\n",
            "_________________________________________________________________\n"
          ]
        }
      ],
      "source": [
        "from keras.callbacks import ReduceLROnPlateau\n",
        "from keras.callbacks import EarlyStopping\n",
        "from keras.layers import Dropout\n",
        "from keras.layers import BatchNormalization\n",
        "\n",
        "#define Densenet model\n",
        "model = Sequential()\n",
        "\n",
        "densenet= tf.keras.applications.densenet.DenseNet169(\n",
        "                   include_top=False,\n",
        "                   input_shape=(224,224,3),\n",
        "                   pooling=None,\n",
        "                   #output classes\n",
        "                   classes=6,\n",
        "                   weights='imagenet'\n",
        "                   )\n",
        "\n",
        "#woring with initial weights\n",
        "for layer in densenet.layers:\n",
        "        layer.trainable=False\n",
        "\n",
        "#Use a Learning Rate Schedule\n",
        "reduce_learning_rate = ReduceLROnPlateau(monitor='val_acc',\n",
        "                                         factor=0.001,\n",
        "                                         patience=5,\n",
        "                                         cooldown=1,\n",
        "                                         min_lr=0.000001,\n",
        "                                         verbose=1)\n",
        "\n",
        "#Stop training when accuracy has stopped improving                                       \n",
        "earlystop = EarlyStopping(monitor='val_loss', patience=5, verbose=1, \n",
        "                          baseline=None, restore_best_weights=True)\n",
        "\n",
        "callbacks = [reduce_learning_rate, earlystop]\n",
        "\n",
        "\n",
        "model.add(densenet)\n",
        "\n",
        "model.add(GlobalAveragePooling2D())\n",
        "\n",
        "#adding top layer\n",
        "model.add(Dense(256, activation='relu'))\n",
        "model.add(Dropout(0.2))\n",
        "model.add(BatchNormalization())\n",
        "model.add(Dense(6, activation='softmax'))\n",
        "\n",
        "model.summary()"
      ]
    },
    {
      "cell_type": "code",
      "execution_count": 24,
      "metadata": {
        "colab": {
          "base_uri": "https://localhost:8080/"
        },
        "id": "uVKLjVcfZRMv",
        "outputId": "781cebc4-c5e4-489d-cb6e-2bb82a0bb7a1"
      },
      "outputs": [
        {
          "name": "stdout",
          "output_type": "stream",
          "text": [
            "Epoch 1/40\n",
            "223/223 [==============================] - 431s 2s/step - loss: 0.4462 - accuracy: 0.8450 - val_loss: 0.6833 - val_accuracy: 0.7621\n",
            "Epoch 2/40\n",
            "223/223 [==============================] - 150s 675ms/step - loss: 0.3821 - accuracy: 0.8652 - val_loss: 0.5829 - val_accuracy: 0.7898\n",
            "Epoch 3/40\n",
            "223/223 [==============================] - 144s 648ms/step - loss: 0.4100 - accuracy: 0.8620 - val_loss: 0.7498 - val_accuracy: 0.7858\n",
            "Epoch 4/40\n",
            "223/223 [==============================] - 145s 649ms/step - loss: 0.4515 - accuracy: 0.8573 - val_loss: 0.4671 - val_accuracy: 0.8590\n",
            "Epoch 5/40\n",
            "223/223 [==============================] - 142s 638ms/step - loss: 0.3729 - accuracy: 0.8732 - val_loss: 0.4497 - val_accuracy: 0.8461\n",
            "Epoch 6/40\n",
            "223/223 [==============================] - 142s 635ms/step - loss: 0.3206 - accuracy: 0.8832 - val_loss: 0.6077 - val_accuracy: 0.8313\n",
            "Epoch 7/40\n",
            "223/223 [==============================] - 145s 650ms/step - loss: 0.3870 - accuracy: 0.8711 - val_loss: 0.5091 - val_accuracy: 0.8169\n",
            "Epoch 8/40\n",
            "223/223 [==============================] - 145s 651ms/step - loss: 0.3593 - accuracy: 0.8774 - val_loss: 0.5430 - val_accuracy: 0.8336\n",
            "Epoch 9/40\n",
            "223/223 [==============================] - 150s 672ms/step - loss: 0.3204 - accuracy: 0.8896 - val_loss: 0.6678 - val_accuracy: 0.8456\n",
            "Epoch 10/40\n",
            "223/223 [==============================] - 146s 655ms/step - loss: 0.3372 - accuracy: 0.8886 - val_loss: 0.4784 - val_accuracy: 0.8492\n",
            "Epoch 11/40\n",
            "223/223 [==============================] - 147s 657ms/step - loss: 0.4048 - accuracy: 0.8841 - val_loss: 0.5797 - val_accuracy: 0.8071\n",
            "Epoch 12/40\n",
            "223/223 [==============================] - 145s 653ms/step - loss: 0.3194 - accuracy: 0.8954 - val_loss: 0.3803 - val_accuracy: 0.8611\n",
            "Epoch 13/40\n",
            "223/223 [==============================] - 144s 645ms/step - loss: 0.3606 - accuracy: 0.8867 - val_loss: 0.4708 - val_accuracy: 0.8435\n",
            "Epoch 14/40\n",
            "223/223 [==============================] - 144s 647ms/step - loss: 0.2996 - accuracy: 0.8935 - val_loss: 0.3512 - val_accuracy: 0.8733\n",
            "Epoch 15/40\n",
            "223/223 [==============================] - 150s 673ms/step - loss: 0.2863 - accuracy: 0.8994 - val_loss: 0.5163 - val_accuracy: 0.8478\n",
            "Epoch 16/40\n",
            "223/223 [==============================] - 150s 672ms/step - loss: 0.3104 - accuracy: 0.8926 - val_loss: 0.5305 - val_accuracy: 0.8507\n",
            "Epoch 17/40\n",
            "223/223 [==============================] - 151s 678ms/step - loss: 0.3292 - accuracy: 0.8941 - val_loss: 0.6222 - val_accuracy: 0.8069\n",
            "Epoch 18/40\n",
            "223/223 [==============================] - 145s 651ms/step - loss: 0.2710 - accuracy: 0.9099 - val_loss: 0.5016 - val_accuracy: 0.8480\n",
            "Epoch 19/40\n",
            "223/223 [==============================] - 162s 725ms/step - loss: 0.3019 - accuracy: 0.9028 - val_loss: 0.5535 - val_accuracy: 0.8541\n",
            "Epoch 20/40\n",
            "223/223 [==============================] - 146s 656ms/step - loss: 0.3950 - accuracy: 0.8906 - val_loss: 0.4876 - val_accuracy: 0.8480\n",
            "Epoch 21/40\n",
            "223/223 [==============================] - 147s 659ms/step - loss: 0.2235 - accuracy: 0.9226 - val_loss: 0.4760 - val_accuracy: 0.8640\n",
            "Epoch 22/40\n",
            "223/223 [==============================] - 151s 678ms/step - loss: 0.2489 - accuracy: 0.9118 - val_loss: 0.8995 - val_accuracy: 0.7551\n",
            "Epoch 23/40\n",
            "223/223 [==============================] - 143s 641ms/step - loss: 0.2551 - accuracy: 0.9153 - val_loss: 0.7145 - val_accuracy: 0.8321\n",
            "Epoch 24/40\n",
            "223/223 [==============================] - 143s 642ms/step - loss: 0.2477 - accuracy: 0.9160 - val_loss: 0.5572 - val_accuracy: 0.8441\n",
            "Epoch 25/40\n",
            "223/223 [==============================] - 142s 639ms/step - loss: 0.2670 - accuracy: 0.9128 - val_loss: 1.1280 - val_accuracy: 0.7746\n",
            "Epoch 26/40\n",
            "223/223 [==============================] - 142s 639ms/step - loss: 0.3296 - accuracy: 0.8980 - val_loss: 0.5181 - val_accuracy: 0.8480\n",
            "Epoch 27/40\n",
            "223/223 [==============================] - 142s 637ms/step - loss: 0.2445 - accuracy: 0.9175 - val_loss: 0.5242 - val_accuracy: 0.8368\n",
            "Epoch 28/40\n",
            "223/223 [==============================] - 144s 645ms/step - loss: 0.3599 - accuracy: 0.8868 - val_loss: 0.6188 - val_accuracy: 0.8365\n",
            "Epoch 29/40\n",
            "223/223 [==============================] - 144s 644ms/step - loss: 0.3812 - accuracy: 0.8865 - val_loss: 0.4923 - val_accuracy: 0.8469\n",
            "Epoch 30/40\n",
            "223/223 [==============================] - 148s 662ms/step - loss: 0.3045 - accuracy: 0.8948 - val_loss: 0.6541 - val_accuracy: 0.8515\n",
            "Epoch 31/40\n",
            "223/223 [==============================] - 147s 658ms/step - loss: 0.2650 - accuracy: 0.9083 - val_loss: 0.6513 - val_accuracy: 0.8662\n",
            "Epoch 32/40\n",
            "223/223 [==============================] - 147s 658ms/step - loss: 0.2764 - accuracy: 0.9078 - val_loss: 1.1848 - val_accuracy: 0.8374\n",
            "Epoch 33/40\n",
            "223/223 [==============================] - 146s 656ms/step - loss: 0.2569 - accuracy: 0.9102 - val_loss: 1.3520 - val_accuracy: 0.8649\n",
            "Epoch 34/40\n",
            "223/223 [==============================] - 144s 644ms/step - loss: 0.2966 - accuracy: 0.9022 - val_loss: 1.2647 - val_accuracy: 0.8315\n",
            "Epoch 35/40\n",
            "223/223 [==============================] - 146s 654ms/step - loss: 0.2659 - accuracy: 0.9088 - val_loss: 1.1673 - val_accuracy: 0.8387\n",
            "Epoch 36/40\n",
            "223/223 [==============================] - 144s 647ms/step - loss: 0.2606 - accuracy: 0.9094 - val_loss: 0.9016 - val_accuracy: 0.8463\n",
            "Epoch 37/40\n",
            "223/223 [==============================] - 147s 661ms/step - loss: 0.2606 - accuracy: 0.9094 - val_loss: 1.0776 - val_accuracy: 0.8247\n",
            "Epoch 38/40\n",
            "223/223 [==============================] - 145s 651ms/step - loss: 0.3795 - accuracy: 0.8871 - val_loss: 1.0167 - val_accuracy: 0.8321\n",
            "Epoch 39/40\n",
            "223/223 [==============================] - 145s 649ms/step - loss: 0.3004 - accuracy: 0.9004 - val_loss: 0.8736 - val_accuracy: 0.8129\n",
            "Epoch 40/40\n",
            "223/223 [==============================] - 147s 659ms/step - loss: 0.2779 - accuracy: 0.9098 - val_loss: 0.5685 - val_accuracy: 0.8488\n"
          ]
        }
      ],
      "source": [
        "#compile model\n",
        "callbacks = [reduce_learning_rate, earlystop]\n",
        "model.compile(optimizer=Adam(learning_rate=0.07),\n",
        "              loss='categorical_crossentropy',\n",
        "              metrics=['accuracy'])\n",
        "\n",
        "#save history of model\n",
        "history = model.fit(train_generator, \n",
        "                    validation_data=test_generator,\n",
        "                    epochs=40)"
      ]
    },
    {
      "cell_type": "code",
      "execution_count": 25,
      "metadata": {
        "colab": {
          "base_uri": "https://localhost:8080/",
          "height": 577
        },
        "id": "QTxp0RRyZTBr",
        "outputId": "26c7aac8-be49-4c7b-bcfd-d6999b4bad0f"
      },
      "outputs": [
        {
          "data": {
            "image/png": "[encoded data removed]",
            "text/plain": [
              "<Figure size 432x288 with 1 Axes>"
            ]
          },
          "metadata": {
            "needs_background": "light"
          },
          "output_type": "display_data"
        },
        {
          "data": {
            "text/plain": [
              "<matplotlib.legend.Legend at 0x7f0e3c3f6250>"
            ]
          },
          "execution_count": 25,
          "metadata": {},
          "output_type": "execute_result"
        },
        {
          "data": {
            "image/png": "[encoded data removed]",
            "text/plain": [
              "<Figure size 432x288 with 1 Axes>"
            ]
          },
          "metadata": {
            "needs_background": "light"
          },
          "output_type": "display_data"
        }
      ],
      "source": [
        "#plot modal accuracy  and model loss\n",
        "fig1 = plt.gcf()\n",
        "plt.plot(history.history['accuracy'])\n",
        "plt.plot(history.history['val_accuracy'])\n",
        "plt.axis(ymin=0.4,ymax=1)\n",
        "\n",
        "plt.grid()\n",
        "plt.title('Model Accuracy')\n",
        "plt.ylabel('Accuracy')\n",
        "plt.xlabel('Epochs')\n",
        "plt.legend(['train', 'validation'])\n",
        "plt.show()\n",
        "\n",
        "plt.plot(history.history['loss'], label = 'loss')\n",
        "plt.plot(history.history['val_loss'], label = 'val_loss')\n",
        "plt.grid()\n",
        "plt.title('Model Loss')\n",
        "plt.legend()"
      ]
    },
    {
      "cell_type": "code",
      "execution_count": null,
      "metadata": {
        "id": "9VLBe67tGyzp"
      },
      "outputs": [],
      "source": [
        "#Conclusion\n",
        "the model has shown a validation accuracy of 0.84 and a training accuracy of 0.9098 which shows that there is room for overfitting that needs to be addressed\n",
        "also even after using 40 epochs the model hasn't improved and kept its accuracy in the range of 0.84\n",
        "unfortunately it was difficult to work with the standard plan of Google Colab since it hinders training and experimenting with modals, architectures\n",
        "and hyperparameter tuning\n"
      ]
    }
  ],
  "metadata": {
    "accelerator": "GPU",
    "colab": {
      "collapsed_sections": [],
      "name": "Untitled5(2).ipynb",
      "provenance": []
    },
    "kernelspec": {
      "display_name": "Python 3",
      "name": "python3"
    },
    "language_info": {
      "name": "python"
    }
  },
  "nbformat": 4,
  "nbformat_minor": 0
}
